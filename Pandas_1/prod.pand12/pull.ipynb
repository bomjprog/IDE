{
 "cells": [
  {
   "cell_type": "code",
   "execution_count": 6,
   "metadata": {},
   "outputs": [],
   "source": [
    "import pandas as pd\n",
    "r1 = pd.read_csv('data/ratings1.csv')\n",
    "r2 = pd.read_csv('data/ratings2.csv')\n",
    "dates = pd.read_csv('data/dates.csv')\n",
    "movies = pd.read_csv('data/movies.csv')"
   ]
  },
  {
   "cell_type": "code",
   "execution_count": 7,
   "metadata": {},
   "outputs": [],
   "source": [
    "dates['date'] = pd.to_datetime(dates['date'])"
   ]
  },
  {
   "cell_type": "code",
   "execution_count": 8,
   "metadata": {},
   "outputs": [],
   "source": [
    "ratings = pd.concat([r1,r2], ignore_index=True)\n",
    "ratings = ratings.drop_duplicates(ignore_index=True)\n",
    "ratings_dates = pd.concat([ratings, dates], axis = 1)"
   ]
  },
  {
   "cell_type": "code",
   "execution_count": 9,
   "metadata": {},
   "outputs": [],
   "source": [
    "joined = ratings_dates.join(\n",
    "    movies.set_index('movieId'),\n",
    "    on='movieId',\n",
    "    how='left'\n",
    ")"
   ]
  },
  {
   "cell_type": "code",
   "execution_count": 10,
   "metadata": {},
   "outputs": [],
   "source": [
    "import re \n",
    "def get_year_release(arg):\n",
    "    candidates = re.findall(r'\\(\\d{4}\\)', arg) \n",
    "    if len(candidates) > 0:\n",
    "        year = candidates[0].replace('(', '')\n",
    "        year = year.replace(')', '')\n",
    "        return int(year)\n",
    "    else:\n",
    "        return None"
   ]
  },
  {
   "cell_type": "code",
   "execution_count": 11,
   "metadata": {},
   "outputs": [
    {
     "name": "stdout",
     "output_type": "stream",
     "text": [
      "<class 'pandas.core.series.Series'>\n",
      "RangeIndex: 100836 entries, 0 to 100835\n",
      "Series name: year_release\n",
      "Non-Null Count  Dtype \n",
      "--------------  ----- \n",
      "0 non-null      object\n",
      "dtypes: object(1)\n",
      "memory usage: 787.9+ KB\n"
     ]
    }
   ],
   "source": [
    "ratings['year_release'] = get_year_release('title')\n",
    "ratings['year_release'].info()"
   ]
  }
 ],
 "metadata": {
  "kernelspec": {
   "display_name": "Python 3",
   "language": "python",
   "name": "python3"
  },
  "language_info": {
   "codemirror_mode": {
    "name": "ipython",
    "version": 3
   },
   "file_extension": ".py",
   "mimetype": "text/x-python",
   "name": "python",
   "nbconvert_exporter": "python",
   "pygments_lexer": "ipython3",
   "version": "3.10.2"
  },
  "orig_nbformat": 4
 },
 "nbformat": 4,
 "nbformat_minor": 2
}
