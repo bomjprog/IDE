{
 "cells": [
  {
   "cell_type": "code",
   "execution_count": 1,
   "metadata": {},
   "outputs": [],
   "source": [
    "import pandas as pd\n",
    "import numpy as np\n",
    "\n",
    "from scipy import stats\n",
    "import statsmodels.api as sm\n",
    "from statsmodels import stats as sms\n",
    "\n",
    "import matplotlib.pyplot as plt\n",
    "import seaborn as sns"
   ]
  },
  {
   "cell_type": "code",
   "execution_count": 2,
   "metadata": {},
   "outputs": [],
   "source": [
    "df = pd.read_csv('data/KaggleV2-May-2016.csv')"
   ]
  },
  {
   "cell_type": "code",
   "execution_count": 3,
   "metadata": {},
   "outputs": [],
   "source": [
    "categorical_columns_names = ['Gender', 'Neighbourhood']\n",
    "encoded_columns = pd.get_dummies(df, columns = categorical_columns_names)"
   ]
  },
  {
   "cell_type": "code",
   "execution_count": 4,
   "metadata": {},
   "outputs": [],
   "source": [
    "import logging"
   ]
  },
  {
   "cell_type": "code",
   "execution_count": 5,
   "metadata": {},
   "outputs": [
    {
     "name": "stderr",
     "output_type": "stream",
     "text": [
      "INFO: 2023-09-04 21:37:12,935: Check\n"
     ]
    }
   ],
   "source": [
    "from importlib import reload\n",
    "reload(logging)\n",
    " \n",
    "logging.basicConfig(\n",
    "    format=\"%(levelname)s: %(asctime)s: %(message)s\",\n",
    "    level=logging.DEBUG\n",
    ")\n",
    "logging.info('Check')\n"
   ]
  },
  {
   "cell_type": "code",
   "execution_count": 6,
   "metadata": {},
   "outputs": [
    {
     "data": {
      "text/plain": [
       "<FileHandler c:\\prog\\IDE\\EDA\\log_file.log (NOTSET)>"
      ]
     },
     "execution_count": 6,
     "metadata": {},
     "output_type": "execute_result"
    }
   ],
   "source": [
    "logging.FileHandler('log_file.log')"
   ]
  },
  {
   "cell_type": "code",
   "execution_count": 7,
   "metadata": {},
   "outputs": [
    {
     "name": "stderr",
     "output_type": "stream",
     "text": [
      "DEBUG: 2023-09-04 21:37:13,046: This is a debug message\n",
      "INFO: 2023-09-04 21:37:13,048: This is an informational message\n",
      "WARNING: 2023-09-04 21:37:13,049: This message is a warning\n",
      "ERROR: 2023-09-04 21:37:13,051: This is an error message\n",
      "CRITICAL: 2023-09-04 21:37:13,053: This is a critical message\n"
     ]
    }
   ],
   "source": [
    "logging.debug('This is a debug message')\n",
    "logging.info('This is an informational message')\n",
    "logging.warning('This message is a warning')\n",
    "logging.error('This is an error message')\n",
    "logging.critical('This is a critical message')\n"
   ]
  },
  {
   "cell_type": "code",
   "execution_count": 8,
   "metadata": {},
   "outputs": [],
   "source": [
    "import os.path\n",
    "\n",
    "# Функция для создания лог-файла и записи в него информации\n",
    "def get_logger(path, file):\n",
    "  \"\"\"[Создает лог-файл для логирования в него]\n",
    "  Аргументы:\n",
    "      path {string} -- путь к директории\n",
    "      file {string} -- имя файла\n",
    "   Возвращает:\n",
    "      [obj] -- [логер]\n",
    "  \"\"\"\n",
    "  # проверяем, существует ли файл\n",
    "  log_file = os.path.join(path, file)\n",
    " \n",
    "  #если  файла нет, создаем его\n",
    "  if not os.path.isfile(log_file):\n",
    "      open(log_file, \"w+\").close()\n",
    "  \n",
    "  # поменяем формат логирования\n",
    "  file_logging_format = \"%(levelname)s: %(asctime)s: %(message)s\"\n",
    "  \n",
    "  # конфигурируем лог-файл\n",
    "  logging.basicConfig(level=logging.INFO, \n",
    "  format = file_logging_format)\n",
    "  logger = logging.getLogger()\n",
    "  \n",
    "  # создадим хэнлдер для записи лога в файл\n",
    "  handler = logging.FileHandler(log_file)\n",
    "  \n",
    "  # установим уровень логирования\n",
    "  handler.setLevel(logging.INFO)\n",
    "  \n",
    "  # создадим формат логирования, используя file_logging_format\n",
    "  formatter = logging.Formatter(file_logging_format)\n",
    "  handler.setFormatter(formatter)\n",
    "  \n",
    "  # добавим хэндлер лог-файлу\n",
    "  logger.addHandler(handler)\n",
    "  return logger"
   ]
  },
  {
   "cell_type": "code",
   "execution_count": 9,
   "metadata": {},
   "outputs": [
    {
     "name": "stderr",
     "output_type": "stream",
     "text": [
      "�������� ��� 䠩� logs 㦥 �������.\n"
     ]
    }
   ],
   "source": [
    "!mkdir logs"
   ]
  },
  {
   "cell_type": "code",
   "execution_count": 11,
   "metadata": {},
   "outputs": [
    {
     "name": "stderr",
     "output_type": "stream",
     "text": [
      "INFO: 2023-09-04 21:55:01,107: Data\n",
      "INFO: 2023-09-04 21:55:01,109: Data shape (110527, 14)\n",
      "INFO: 2023-09-04 21:55:01,128: Percentage of women: 0.653882342398853\n",
      "INFO: 2023-09-04 21:55:01,147: Percentage of men: 0.346117657601147\n",
      "ERROR: 2023-09-04 21:55:01,150: Data shape is incorrect!\n"
     ]
    }
   ],
   "source": [
    "# создаем лог-файл\n",
    "logger = get_logger(path=\"logs/\", file=\"data.logs\")\n",
    "\n",
    "logger.info(\"Data\")\n",
    "\n",
    "logger.info(\"Data shape {}\".format(df.shape))\n",
    "\n",
    "logger.info(\"Percentage of women: {}\".format(df[df['No-show']=='Yes']['Gender'].value_counts(True)[0]))\n",
    "\n",
    "logger.info(\"Percentage of men: {}\".format(df[df['No-show']=='Yes']['Gender'].value_counts(True)[1]))\n",
    "\n",
    "if df.shape != (110526,14):\n",
    " logger.error('Data shape is incorrect!')"
   ]
  }
 ],
 "metadata": {
  "kernelspec": {
   "display_name": "Python 3",
   "language": "python",
   "name": "python3"
  },
  "language_info": {
   "codemirror_mode": {
    "name": "ipython",
    "version": 3
   },
   "file_extension": ".py",
   "mimetype": "text/x-python",
   "name": "python",
   "nbconvert_exporter": "python",
   "pygments_lexer": "ipython3",
   "version": "3.10.2"
  },
  "orig_nbformat": 4
 },
 "nbformat": 4,
 "nbformat_minor": 2
}
