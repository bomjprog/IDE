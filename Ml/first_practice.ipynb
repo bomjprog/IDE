{
 "cells": [
  {
   "cell_type": "code",
   "execution_count": 5,
   "metadata": {},
   "outputs": [],
   "source": [
    "import numpy as np #для матричных вычислений\n",
    "import pandas as pd #для анализа и предобработки данных\n",
    "import matplotlib.pyplot as plt #для визуализации\n",
    "import seaborn as sns #для визуализации\n",
    "\n",
    "from sklearn import linear_model #линейные модели\n",
    "from sklearn import metrics #метрики\n",
    "from sklearn import preprocessing #предобработка\n",
    "from sklearn.model_selection import train_test_split #разделение выборки"
   ]
  },
  {
   "cell_type": "code",
   "execution_count": 25,
   "metadata": {},
   "outputs": [
    {
     "name": "stdout",
     "output_type": "stream",
     "text": [
      "<class 'pandas.core.frame.DataFrame'>\n",
      "RangeIndex: 1338 entries, 0 to 1337\n",
      "Data columns (total 7 columns):\n",
      " #   Column    Non-Null Count  Dtype  \n",
      "---  ------    --------------  -----  \n",
      " 0   age       1338 non-null   int64  \n",
      " 1   sex       1338 non-null   object \n",
      " 2   bmi       1338 non-null   float64\n",
      " 3   children  1338 non-null   int64  \n",
      " 4   smoker    1338 non-null   object \n",
      " 5   region    1338 non-null   object \n",
      " 6   charges   1338 non-null   float64\n",
      "dtypes: float64(2), int64(2), object(3)\n",
      "memory usage: 73.3+ KB\n"
     ]
    }
   ],
   "source": [
    "data = pd.read_csv('data/insurance.csv')\n",
    "data.info()"
   ]
  },
  {
   "cell_type": "code",
   "execution_count": 26,
   "metadata": {},
   "outputs": [
    {
     "data": {
      "text/html": [
       "<div>\n",
       "<style scoped>\n",
       "    .dataframe tbody tr th:only-of-type {\n",
       "        vertical-align: middle;\n",
       "    }\n",
       "\n",
       "    .dataframe tbody tr th {\n",
       "        vertical-align: top;\n",
       "    }\n",
       "\n",
       "    .dataframe thead th {\n",
       "        text-align: right;\n",
       "    }\n",
       "</style>\n",
       "<table border=\"1\" class=\"dataframe\">\n",
       "  <thead>\n",
       "    <tr style=\"text-align: right;\">\n",
       "      <th></th>\n",
       "      <th>age</th>\n",
       "      <th>sex</th>\n",
       "      <th>bmi</th>\n",
       "      <th>children</th>\n",
       "      <th>smoker</th>\n",
       "      <th>charges</th>\n",
       "      <th>region_northeast</th>\n",
       "      <th>region_northwest</th>\n",
       "      <th>region_southeast</th>\n",
       "      <th>region_southwest</th>\n",
       "    </tr>\n",
       "  </thead>\n",
       "  <tbody>\n",
       "    <tr>\n",
       "      <th>0</th>\n",
       "      <td>19</td>\n",
       "      <td>0</td>\n",
       "      <td>27.900</td>\n",
       "      <td>0</td>\n",
       "      <td>1</td>\n",
       "      <td>16884.92400</td>\n",
       "      <td>False</td>\n",
       "      <td>False</td>\n",
       "      <td>False</td>\n",
       "      <td>True</td>\n",
       "    </tr>\n",
       "    <tr>\n",
       "      <th>1</th>\n",
       "      <td>18</td>\n",
       "      <td>1</td>\n",
       "      <td>33.770</td>\n",
       "      <td>1</td>\n",
       "      <td>0</td>\n",
       "      <td>1725.55230</td>\n",
       "      <td>False</td>\n",
       "      <td>False</td>\n",
       "      <td>True</td>\n",
       "      <td>False</td>\n",
       "    </tr>\n",
       "    <tr>\n",
       "      <th>2</th>\n",
       "      <td>28</td>\n",
       "      <td>1</td>\n",
       "      <td>33.000</td>\n",
       "      <td>3</td>\n",
       "      <td>0</td>\n",
       "      <td>4449.46200</td>\n",
       "      <td>False</td>\n",
       "      <td>False</td>\n",
       "      <td>True</td>\n",
       "      <td>False</td>\n",
       "    </tr>\n",
       "    <tr>\n",
       "      <th>3</th>\n",
       "      <td>33</td>\n",
       "      <td>1</td>\n",
       "      <td>22.705</td>\n",
       "      <td>0</td>\n",
       "      <td>0</td>\n",
       "      <td>21984.47061</td>\n",
       "      <td>False</td>\n",
       "      <td>True</td>\n",
       "      <td>False</td>\n",
       "      <td>False</td>\n",
       "    </tr>\n",
       "    <tr>\n",
       "      <th>4</th>\n",
       "      <td>32</td>\n",
       "      <td>1</td>\n",
       "      <td>28.880</td>\n",
       "      <td>0</td>\n",
       "      <td>0</td>\n",
       "      <td>3866.85520</td>\n",
       "      <td>False</td>\n",
       "      <td>True</td>\n",
       "      <td>False</td>\n",
       "      <td>False</td>\n",
       "    </tr>\n",
       "  </tbody>\n",
       "</table>\n",
       "</div>"
      ],
      "text/plain": [
       "   age  sex     bmi  children  smoker      charges  region_northeast  \\\n",
       "0   19    0  27.900         0       1  16884.92400             False   \n",
       "1   18    1  33.770         1       0   1725.55230             False   \n",
       "2   28    1  33.000         3       0   4449.46200             False   \n",
       "3   33    1  22.705         0       0  21984.47061             False   \n",
       "4   32    1  28.880         0       0   3866.85520             False   \n",
       "\n",
       "   region_northwest  region_southeast  region_southwest  \n",
       "0             False             False              True  \n",
       "1             False              True             False  \n",
       "2             False              True             False  \n",
       "3              True             False             False  \n",
       "4              True             False             False  "
      ]
     },
     "execution_count": 26,
     "metadata": {},
     "output_type": "execute_result"
    }
   ],
   "source": [
    "#кодируем бинарные категориальные признаки\n",
    "data['smoker'] = data['smoker'].apply(lambda x: 0 if x == 'no' else 1)\n",
    "data['sex'] = data['sex'].apply(lambda x: 0 if x == 'female' else 1)\n",
    "#оставшиеся категориальные признаки кодируем с помощью OneHot\n",
    "data = pd.get_dummies(data)\n",
    "data.head()"
   ]
  },
  {
   "cell_type": "code",
   "execution_count": 27,
   "metadata": {},
   "outputs": [],
   "source": [
    "features = data.drop('charges', axis=1).columns\n",
    "X, y = data[features], data['charges']"
   ]
  },
  {
   "cell_type": "code",
   "execution_count": 28,
   "metadata": {},
   "outputs": [
    {
     "name": "stdout",
     "output_type": "stream",
     "text": [
      "Train: (1070, 9) (1070,)\n",
      "Test: (268, 9) (268,)\n"
     ]
    }
   ],
   "source": [
    "X_train, X_test, y_train, y_test = train_test_split(X, y, test_size=0.2, random_state=40)\n",
    "print('Train:', X_train.shape, y_train.shape)\n",
    "print('Test:', X_test.shape, y_test.shape)"
   ]
  },
  {
   "cell_type": "code",
   "execution_count": 29,
   "metadata": {},
   "outputs": [
    {
     "name": "stdout",
     "output_type": "stream",
     "text": [
      "w0: -12198.740769442573\n",
      "w1: [  254.74380593  -109.93652974   326.37904839   583.2708384\n",
      " 23771.28324974   536.70936675    47.11043104  -261.25319814\n",
      "  -322.56659965]\n"
     ]
    }
   ],
   "source": [
    "lr_lstat = linear_model.LinearRegression()\n",
    "lr_lstat.fit(X_train, y_train)\n",
    " \n",
    "print('w0: {}'.format(lr_lstat.intercept_)) #свободный член w0\n",
    "print('w1: {}'.format(lr_lstat.coef_)) #остальные параметры модели w1, w2, ..., wm\n",
    "\n",
    "y_train_predict = lr_lstat.predict(X_train)\n",
    "y_test_predict = lr_lstat.predict(X_test)"
   ]
  },
  {
   "cell_type": "code",
   "execution_count": 30,
   "metadata": {},
   "outputs": [
    {
     "name": "stdout",
     "output_type": "stream",
     "text": [
      "MAE score: 4103.695 thou. $\n",
      "MAPE score: 40.747 %\n",
      "R2 score: 0.755\n"
     ]
    }
   ],
   "source": [
    "#Рассчитываем MAE\n",
    "print('MAE score: {:.3f} thou. $'.format(metrics.mean_absolute_error(y_train, y_train_predict)))\n",
    "#Рассчитываем MAPE\n",
    "print('MAPE score: {:.3f} %'.format(metrics.mean_absolute_percentage_error(y_train, y_train_predict) * 100))\n",
    "#Рассчитываем коэффициент детерминации\n",
    "print('R2 score: {:.3f}'.format(metrics.r2_score(y_train, y_train_predict)))"
   ]
  },
  {
   "cell_type": "code",
   "execution_count": 31,
   "metadata": {},
   "outputs": [
    {
     "name": "stdout",
     "output_type": "stream",
     "text": [
      "MAE score: 4358.281 thou. $\n",
      "MAPE score: 44.263 %\n",
      "R2 score: 0.734\n"
     ]
    }
   ],
   "source": [
    "#Рассчитываем MAE\n",
    "print('MAE score: {:.3f} thou. $'.format(metrics.mean_absolute_error(y_test, y_test_predict)))\n",
    "#Рассчитываем MAPE\n",
    "print('MAPE score: {:.3f} %'.format(metrics.mean_absolute_percentage_error(y_test, y_test_predict) * 100))\n",
    "#Рассчитываем коэффициент детерминации\n",
    "print('R2 score: {:.3f}'.format(metrics.r2_score(y_test, y_test_predict)))"
   ]
  },
  {
   "cell_type": "code",
   "execution_count": 32,
   "metadata": {},
   "outputs": [
    {
     "name": "stdout",
     "output_type": "stream",
     "text": [
      "(1070, 54)\n"
     ]
    }
   ],
   "source": [
    "scaler = preprocessing.MinMaxScaler()\n",
    "scaler.fit(X_train)\n",
    "X_train_scaled = scaler.transform(X_train)\n",
    "X_test_scaled = scaler.transform(X_test)\n",
    "\n",
    "poly = preprocessing.PolynomialFeatures(degree=2, include_bias=False)\n",
    "poly.fit(X_train_scaled)\n",
    "X_train_scaled_poly = poly.transform(X_train_scaled)\n",
    "X_test_scaled_poly = poly.transform(X_test_scaled)\n",
    "print(X_train_scaled_poly.shape)"
   ]
  },
  {
   "cell_type": "code",
   "execution_count": 34,
   "metadata": {},
   "outputs": [],
   "source": [
    "lr_lstat = linear_model.LinearRegression()\n",
    "lr_lstat.fit(X_train_scaled_poly, y_train)\n",
    "y_train_predict_poly = lr_lstat.predict(X_train_scaled_poly)\n",
    "y_test_predict_poly = lr_lstat.predict(X_test_scaled_poly)"
   ]
  },
  {
   "cell_type": "code",
   "execution_count": 35,
   "metadata": {},
   "outputs": [
    {
     "name": "stdout",
     "output_type": "stream",
     "text": [
      "R2 score: 0.847\n"
     ]
    }
   ],
   "source": [
    "print('R2 score: {:.3f}'.format(metrics.r2_score(y_test, y_test_predict_poly)))"
   ]
  },
  {
   "cell_type": "code",
   "execution_count": 36,
   "metadata": {},
   "outputs": [
    {
     "data": {
      "text/plain": [
       "array([ 1.08172430e+14,  1.55580550e+17, -6.52226617e+15, -4.29119480e+16,\n",
       "        7.18584476e+15,  1.53877675e+15,  5.62018978e+16, -1.41735832e+16,\n",
       "        1.09296760e+16,  7.41987891e+03, -1.83250000e+02,  2.62510938e+03,\n",
       "       -1.24517969e+03, -2.16093750e+02, -1.08172430e+14, -1.08172430e+14,\n",
       "       -1.08172430e+14, -1.08172430e+14, -1.45841119e+17,  1.76557617e+02,\n",
       "       -1.58572168e+03,  3.76708984e+02, -9.73943150e+15, -9.73943150e+15,\n",
       "       -9.73943150e+15, -9.73943150e+15, -9.47328625e+03, -6.27657043e+02,\n",
       "        5.39794662e+04,  6.52226617e+15,  6.52226617e+15,  6.52226617e+15,\n",
       "        6.52226617e+15, -1.26400000e+03, -6.80000000e+02,  4.29119480e+16,\n",
       "        4.29119480e+16,  4.29119480e+16,  4.29119480e+16, -9.66470108e+15,\n",
       "        2.47885631e+15,  2.47885631e+15,  2.47885631e+15,  2.47885631e+15,\n",
       "       -5.90095120e+15,  0.00000000e+00,  0.00000000e+00,  0.00000000e+00,\n",
       "       -6.05640722e+16,  0.00000000e+00,  0.00000000e+00,  9.81140879e+15,\n",
       "        0.00000000e+00, -1.52918505e+16])"
      ]
     },
     "execution_count": 36,
     "metadata": {},
     "output_type": "execute_result"
    }
   ],
   "source": [
    "lr_lstat.coef_"
   ]
  },
  {
   "cell_type": "code",
   "execution_count": 40,
   "metadata": {},
   "outputs": [
    {
     "name": "stdout",
     "output_type": "stream",
     "text": [
      "Test R^2: 0.840\n",
      "MAE score: 2964.869 thou. $\n",
      "MAPE score: 31.093 %\n"
     ]
    }
   ],
   "source": [
    "lasso_lr_poly = linear_model.Ridge()\n",
    "lasso_lr_poly.fit(X_train_scaled_poly, y_train)\n",
    "y_test_predict_poly = lasso_lr_poly.predict(X_test_scaled_poly)\n",
    "print(\"Test R^2: {:.3f}\".format(metrics.r2_score(y_test, y_test_predict_poly)))\n",
    "print('MAE score: {:.3f} thou. $'.format(metrics.mean_absolute_error(y_test, y_test_predict_poly)))\n",
    "print('MAPE score: {:.3f} %'.format(metrics.mean_absolute_percentage_error(y_test, y_test_predict_poly) * 100))"
   ]
  }
 ],
 "metadata": {
  "kernelspec": {
   "display_name": "Python 3",
   "language": "python",
   "name": "python3"
  },
  "language_info": {
   "codemirror_mode": {
    "name": "ipython",
    "version": 3
   },
   "file_extension": ".py",
   "mimetype": "text/x-python",
   "name": "python",
   "nbconvert_exporter": "python",
   "pygments_lexer": "ipython3",
   "version": "3.10.2"
  }
 },
 "nbformat": 4,
 "nbformat_minor": 2
}
